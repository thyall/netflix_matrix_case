{
  "cells": [
    {
      "cell_type": "code",
      "execution_count": null,
      "metadata": {
        "id": "DdPP0w5gE1M-"
      },
      "outputs": [],
      "source": [
        "# importando bibliotecas necessárias \n",
        "import os\n",
        "import boto3\n",
        "from google.colab import drive\n",
        "from pyspark.sql import functions as f\n",
        "from pyspark.sql.types import\n",
        "from pyspark.sql import SparkSession\n",
        "import findspark\n",
        "\n",
        "# instalação das dependências\n",
        "!apt-get update -qq\n",
        "!apt-get install openjdk-8-jdk-headless -qq > /dev/null\n",
        "!wget -q https://archive.apache.org/dist/spark/spark-3.1.2/spark-3.1.2-bin-hadoop2.7.tgz\n",
        "!tar xf spark-3.1.2-bin-hadoop2.7.tgz\n",
        "!pip install -q findspark"
      ]
    },
    {
      "cell_type": "code",
      "execution_count": null,
      "metadata": {
        "id": "gYGcyjKWFRhl"
      },
      "outputs": [],
      "source": [
        "# configurando variáveis de ambiente\n",
        "os.environ[\"JAVA_HOME\"] = \"/usr/lib/jvm/java-8-openjdk-amd64\"\n",
        "os.environ[\"SPARK_HOME\"] = \"/content/spark-3.1.2-bin-hadoop2.7\""
      ]
    },
    {
      "cell_type": "code",
      "execution_count": null,
      "metadata": {
        "id": "XUP1VFmWFR3y"
      },
      "outputs": [],
      "source": [
        "# iniciando spark\n",
        "findspark.init()"
      ]
    },
    {
      "cell_type": "code",
      "execution_count": null,
      "metadata": {
        "id": "IEEFrUaqKURG"
      },
      "outputs": [],
      "source": [
        "# criando sessão\n",
        "spark = SparkSession.builder \\\n",
        "    .master('local[*]') \\\n",
        "    .appName(\"Case Confitech\") \\\n",
        "    .config('spark.ui.port', '4050') \\\n",
        "    .getOrCreate()"
      ]
    },
    {
      "cell_type": "code",
      "execution_count": null,
      "metadata": {
        "colab": {
          "base_uri": "https://localhost:8080/"
        },
        "id": "WRryJoDsK7R1",
        "outputId": "93e7911c-b2f1-4464-c583-dda3429c371c"
      },
      "outputs": [
        {
          "name": "stdout",
          "output_type": "stream",
          "text": [
            "Drive already mounted at /content/drive; to attempt to forcibly remount, call drive.mount(\"/content/drive\", force_remount=True).\n"
          ]
        }
      ],
      "source": [
        "# montando drive\n",
        "drive.mount('/content/drive')"
      ]
    },
    {
      "cell_type": "code",
      "execution_count": null,
      "metadata": {
        "id": "Qp__NUL6Mp3Q"
      },
      "outputs": [],
      "source": [
        "# lendo e vizualizando arquivo \n",
        "path = '/content/drive/MyDrive/case confitech/files'\n",
        "\n",
        "netflix_parquet = spark.read.parquet(path)\n",
        "\n",
        "netflix_parquet.show(5, False)"
      ]
    },
    {
      "cell_type": "code",
      "execution_count": null,
      "metadata": {
        "colab": {
          "base_uri": "https://localhost:8080/"
        },
        "id": "Ephd9bI9NcZe",
        "outputId": "23b69474-fc12-40e1-953d-c3c4eb3eeae9"
      },
      "outputs": [
        {
          "name": "stdout",
          "output_type": "stream",
          "text": [
            "root\n",
            " |-- Title: string (nullable = true)\n",
            " |-- Genre: string (nullable = true)\n",
            " |-- GenreLabels: string (nullable = true)\n",
            " |-- Premiere: string (nullable = true)\n",
            " |-- Seasons: string (nullable = true)\n",
            " |-- SeasonsParsed: long (nullable = true)\n",
            " |-- EpisodesParsed: long (nullable = true)\n",
            " |-- Length: string (nullable = true)\n",
            " |-- MinLength: long (nullable = true)\n",
            " |-- MaxLength: long (nullable = true)\n",
            " |-- Status: string (nullable = true)\n",
            " |-- Active: long (nullable = true)\n",
            " |-- Table: string (nullable = true)\n",
            " |-- Language: string (nullable = true)\n",
            " |-- dt_inclusao: string (nullable = true)\n",
            "\n"
          ]
        }
      ],
      "source": [
        "# investigando schema\n",
        "netflix_parquet.printSchema()"
      ]
    },
    {
      "cell_type": "markdown",
      "metadata": {
        "id": "pwD9oQyWOzFe"
      },
      "source": [
        "# Transformando os campos \"Premiere\" e \"dt_inclusão\" de string para datetime\n",
        "\n",
        "\n",
        "\n"
      ]
    },
    {
      "cell_type": "code",
      "execution_count": null,
      "metadata": {
        "colab": {
          "base_uri": "https://localhost:8080/"
        },
        "id": "iBlvmPpWOrgv",
        "outputId": "ba11a4bc-dc20-468d-dfcb-02028e6124dd"
      },
      "outputs": [
        {
          "name": "stdout",
          "output_type": "stream",
          "text": [
            "root\n",
            " |-- Title: string (nullable = true)\n",
            " |-- Genre: string (nullable = true)\n",
            " |-- GenreLabels: string (nullable = true)\n",
            " |-- Premiere: string (nullable = false)\n",
            " |-- Seasons: string (nullable = true)\n",
            " |-- SeasonsParsed: long (nullable = true)\n",
            " |-- EpisodesParsed: long (nullable = true)\n",
            " |-- Length: string (nullable = true)\n",
            " |-- MinLength: long (nullable = true)\n",
            " |-- MaxLength: long (nullable = true)\n",
            " |-- Status: string (nullable = true)\n",
            " |-- Active: long (nullable = true)\n",
            " |-- Table: string (nullable = true)\n",
            " |-- Language: string (nullable = true)\n",
            " |-- dt_inclusao: date (nullable = true)\n",
            "\n"
          ]
        }
      ],
      "source": [
        "netflix_parquet2 = netflix_parquet\\\n",
        "    .withColumn(\n",
        "        \"dt_inclusao\",\n",
        "        f.to_date(netflix_parquet.dt_inclusao)\n",
        "    )\\\n",
        "    .withColumn(\n",
        "        \"Premiere\",\n",
        "        f.date_format(f.current_timestamp(), \"yyyy-MM-dd\")\n",
        "    )\\\n",
        "\n",
        "netflix_parquet2.printSchema()"
      ]
    },
    {
      "cell_type": "code",
      "execution_count": null,
      "metadata": {
        "colab": {
          "base_uri": "https://localhost:8080/"
        },
        "id": "4EBiRqw8Qdzq",
        "outputId": "c8e2c191-df5a-41a5-ec4e-332bfe75dbb3"
      },
      "outputs": [
        {
          "name": "stdout",
          "output_type": "stream",
          "text": [
            "+-----------------------+----------------+----------------+----------+----------------------+-------------+--------------+----------+---------+---------+-------+------+-----+--------+-----------+\n",
            "|Title                  |Genre           |GenreLabels     |Premiere  |Seasons               |SeasonsParsed|EpisodesParsed|Length    |MinLength|MaxLength|Status |Active|Table|Language|dt_inclusao|\n",
            "+-----------------------+----------------+----------------+----------+----------------------+-------------+--------------+----------+---------+---------+-------+------+-----+--------+-----------+\n",
            "|House of Cards         |Political drama |political,drama |2023-04-27|6 seasons, 73 episodes|6            |73            |42–59 min.|42       |59       |Ended  |0     |Drama|English |2021-03-16 |\n",
            "|Hemlock Grove          |Horror/thriller |horror,thriller |2023-04-27|3 seasons, 33 episodes|3            |33            |45–58 min.|45       |58       |Ended  |0     |Drama|English |2021-03-16 |\n",
            "|Orange Is the New Black|Comedy-drama    |comedy-drama    |2023-04-27|6 seasons, 78 episodes|6            |78            |50–92 min.|50       |92       |Renewed|1     |Drama|English |2021-03-16 |\n",
            "|Marco Polo             |Historical drama|historical,drama|2023-04-27|2 seasons, 20 episodes|2            |20            |48–65 min.|48       |65       |Ended  |0     |Drama|English |2021-03-16 |\n",
            "|Bloodline              |Thriller        |thriller        |2023-04-27|3 seasons, 33 episodes|3            |33            |48–68 min.|48       |68       |Ended  |0     |Drama|English |2021-03-16 |\n",
            "+-----------------------+----------------+----------------+----------+----------------------+-------------+--------------+----------+---------+---------+-------+------+-----+--------+-----------+\n",
            "only showing top 5 rows\n",
            "\n"
          ]
        }
      ],
      "source": [
        "# novos valores para premiere e dt_inclusao\n",
        "netflix_parquet2.show(5, False)"
      ]
    },
    {
      "cell_type": "markdown",
      "metadata": {
        "id": "gxavO4bkd9eF"
      },
      "source": [
        "# Ordenando os dados por ativos e gênero de forma decrescente\n",
        "\n",
        "### Legenda\n",
        "- 0 = inativo\n",
        "-1 = ativo\n",
        "\n",
        "*Todos com número 1 devem aparecer primeiro.*"
      ]
    },
    {
      "cell_type": "code",
      "execution_count": null,
      "metadata": {
        "colab": {
          "base_uri": "https://localhost:8080/"
        },
        "id": "35kA40erfbiJ",
        "outputId": "01406a4f-59e4-48d9-de93-56778046ba35"
      },
      "outputs": [
        {
          "name": "stdout",
          "output_type": "stream",
          "text": [
            "+------------------------+------+\n",
            "|Genre                   |Active|\n",
            "+------------------------+------+\n",
            "|chrildrens musical short|1     |\n",
            "|chrildrens musical short|1     |\n",
            "|chrildrens musical short|1     |\n",
            "|childrens-animation     |1     |\n",
            "|childrens-animation     |1     |\n",
            "|childrens-animation     |1     |\n",
            "|childrens-animation     |1     |\n",
            "|childrens-animation     |1     |\n",
            "|childrens-animation     |1     |\n",
            "|childrens-animation     |1     |\n",
            "+------------------------+------+\n",
            "only showing top 10 rows\n",
            "\n"
          ]
        }
      ],
      "source": [
        "# ordenação e visualização\n",
        "netflix_parquet2\\\n",
        "    .select('Genre', \"Active\")\\\n",
        "    .orderBy(['Active', 'Genre'], ascending=[False, False])\\\n",
        "    .show(10, False)"
      ]
    },
    {
      "cell_type": "markdown",
      "metadata": {
        "id": "oJKE9MEIgGLt"
      },
      "source": [
        "# Removendo linhas duplicadas e trocando o resultado das linhas que tiverem a coluna \"Seasons\"\n",
        "- \"TBA\" --> \"a ser anunciado\". \n",
        "\n"
      ]
    },
    {
      "cell_type": "code",
      "execution_count": null,
      "metadata": {
        "colab": {
          "base_uri": "https://localhost:8080/"
        },
        "id": "tEDpZGrmf8iV",
        "outputId": "eb92b884-be23-4c46-da3c-452b855bc09a"
      },
      "outputs": [
        {
          "name": "stdout",
          "output_type": "stream",
          "text": [
            "+--------------------+-------------------+-------------------+----------+--------------------+-------------+--------------+----------+---------+---------+-------+------+---------------+--------+-----------+\n",
            "|               Title|              Genre|        GenreLabels|  Premiere|             Seasons|SeasonsParsed|EpisodesParsed|    Length|MinLength|MaxLength| Status|Active|          Table|Language|dt_inclusao|\n",
            "+--------------------+-------------------+-------------------+----------+--------------------+-------------+--------------+----------+---------+---------+-------+------+---------------+--------+-----------+\n",
            "|          Mindhunter|        Crime drama|        crime,drama|2023-04-27|1 season, 10 epis...|            1|            10|34–60 min.|       34|       60|Renewed|     1|          Drama| English| 2021-03-16|\n",
            "|              Rotten|        Documentary|        documentary|2023-04-27|1 season, 6 episodes|            1|             6|48–58 min.|       48|       58|  Ended|     0|     DocuSeries| English| 2021-03-16|\n",
            "|            Trinkets|Coming-of-age drama|coming-of-age,drama|2023-04-27|1 season, 10 epis...|            1|            10|22–29 min.|       22|       29|Pending|     1|          Drama| English| 2021-03-16|\n",
            "|Jimmy: The True S...|             Comedy|             comedy|2023-04-27|1 season, 9 episodes|            1|             9|39–64 min.|       39|       64|Pending|     1|ForeignLanguage|Japanese| 2021-03-16|\n",
            "|Friends from College|             Comedy|             comedy|2023-04-27|2 seasons, 16 epi...|            2|            16|26–34 min.|       26|       34|  Ended|     0|         Comedy| English| 2021-03-16|\n",
            "+--------------------+-------------------+-------------------+----------+--------------------+-------------+--------------+----------+---------+---------+-------+------+---------------+--------+-----------+\n",
            "only showing top 5 rows\n",
            "\n"
          ]
        }
      ],
      "source": [
        "# removendo linhas duplicadas\n",
        "netflix_parquet_no_duplicate = netflix_parquet2.dropDuplicates()\n",
        "\n",
        "netflix_parquet_no_duplicate.show(5)"
      ]
    },
    {
      "cell_type": "code",
      "execution_count": null,
      "metadata": {
        "id": "aqXgBzOPgzpK"
      },
      "outputs": [],
      "source": [
        "# alterando valor de 'TBAq para 'a ser anunciado'\n",
        "netflix_parquet_clean = netflix_parquet_no_duplicate.withColumn(\n",
        "    'Seasons', f.regexp_replace('Seasons', 'TBA', 'a ser anunciado'))"
      ]
    },
    {
      "cell_type": "code",
      "execution_count": null,
      "metadata": {
        "colab": {
          "base_uri": "https://localhost:8080/"
        },
        "id": "Ep1ejSTshttk",
        "outputId": "47ade54b-e142-43bf-e26c-3a12c913ca0d"
      },
      "outputs": [
        {
          "name": "stdout",
          "output_type": "stream",
          "text": [
            "+----------------------------------+---------------+---------------+----------+---------------+-------------+--------------+-------+---------+---------+-------+------+---------------+--------+-----------+\n",
            "|Title                             |Genre          |GenreLabels    |Premiere  |Seasons        |SeasonsParsed|EpisodesParsed|Length |MinLength|MaxLength|Status |Active|Table          |Language|dt_inclusao|\n",
            "+----------------------------------+---------------+---------------+----------+---------------+-------------+--------------+-------+---------+---------+-------+------+---------------+--------+-----------+\n",
            "|Knights of the Zodiac: Saint Seiya|Action         |action         |2023-04-27|a ser anunciado|0            |0             |TBA    |0        |0        |Pending|1     |Anime          |English |2021-03-16 |\n",
            "|7 Seeds                           |Science fiction|science-fiction|2023-04-27|a ser anunciado|0            |0             |TBA    |0        |0        |Pending|1     |Anime          |English |2021-03-16 |\n",
            "|Family Business                   |Comedy         |comedy         |2023-04-27|a ser anunciado|0            |0             |29 min.|0        |0        |Pending|1     |ForeignLanguage|French  |2021-03-16 |\n",
            "|The Politician                    |Comedy         |comedy         |2023-04-27|a ser anunciado|0            |0             |TBA    |0        |0        |Renewed|1     |Comedy         |English |2021-03-16 |\n",
            "|Typewriter                        |Horror         |horror         |2023-04-27|a ser anunciado|0            |0             |TBA    |0        |0        |Pending|1     |ForeignLanguage|Hindi   |2021-03-16 |\n",
            "+----------------------------------+---------------+---------------+----------+---------------+-------------+--------------+-------+---------+---------+-------+------+---------------+--------+-----------+\n",
            "only showing top 5 rows\n",
            "\n"
          ]
        }
      ],
      "source": [
        "# dataframe tratado\n",
        "netflix_parquet_clean\\\n",
        "    .where(\"Seasons == 'a ser anunciado'\")\\\n",
        "    .show(5, False)"
      ]
    },
    {
      "cell_type": "markdown",
      "metadata": {
        "id": "HvTD9_AziEee"
      },
      "source": [
        "# Criando uma nova coluna chamada \"Data de Alteração\" e passando um de valor timestamp"
      ]
    },
    {
      "cell_type": "code",
      "execution_count": null,
      "metadata": {
        "id": "GGpV-3guh9JR"
      },
      "outputs": [],
      "source": [
        "# criando nova coluna\n",
        "netflix_parquet_clean = netflix_parquet_clean.withColumn(\n",
        "    \"Data de Alteracao\", f.current_timestamp())"
      ]
    },
    {
      "cell_type": "code",
      "execution_count": null,
      "metadata": {
        "colab": {
          "base_uri": "https://localhost:8080/"
        },
        "id": "mqR8wXp2ov6c",
        "outputId": "4a37c728-d604-4848-8ffc-f48cbbf9bf10"
      },
      "outputs": [
        {
          "name": "stdout",
          "output_type": "stream",
          "text": [
            "+-------------------------------------+-------------------+-------------------+----------+----------------------+-------------+--------------+----------+---------+---------+-------+------+---------------+--------+-----------+----------------------+\n",
            "|Title                                |Genre              |GenreLabels        |Premiere  |Seasons               |SeasonsParsed|EpisodesParsed|Length    |MinLength|MaxLength|Status |Active|Table          |Language|dt_inclusao|Data de Alteracao     |\n",
            "+-------------------------------------+-------------------+-------------------+----------+----------------------+-------------+--------------+----------+---------+---------+-------+------+---------------+--------+-----------+----------------------+\n",
            "|Mindhunter                           |Crime drama        |crime,drama        |2023-04-27|1 season, 10 episodes |1            |10            |34–60 min.|34       |60       |Renewed|1     |Drama          |English |2021-03-16 |2023-04-27 17:23:07.06|\n",
            "|Rotten                               |Documentary        |documentary        |2023-04-27|1 season, 6 episodes  |1            |6             |48–58 min.|48       |58       |Ended  |0     |DocuSeries     |English |2021-03-16 |2023-04-27 17:23:07.06|\n",
            "|Trinkets                             |Coming-of-age drama|coming-of-age,drama|2023-04-27|1 season, 10 episodes |1            |10            |22–29 min.|22       |29       |Pending|1     |Drama          |English |2021-03-16 |2023-04-27 17:23:07.06|\n",
            "|Jimmy: The True Story of a True Idiot|Comedy             |comedy             |2023-04-27|1 season, 9 episodes  |1            |9             |39–64 min.|39       |64       |Pending|1     |ForeignLanguage|Japanese|2021-03-16 |2023-04-27 17:23:07.06|\n",
            "|Friends from College                 |Comedy             |comedy             |2023-04-27|2 seasons, 16 episodes|2            |16            |26–34 min.|26       |34       |Ended  |0     |Comedy         |English |2021-03-16 |2023-04-27 17:23:07.06|\n",
            "+-------------------------------------+-------------------+-------------------+----------+----------------------+-------------+--------------+----------+---------+---------+-------+------+---------------+--------+-----------+----------------------+\n",
            "only showing top 5 rows\n",
            "\n"
          ]
        }
      ],
      "source": [
        "netflix_parquet_clean.show(5, False)"
      ]
    },
    {
      "cell_type": "markdown",
      "metadata": {
        "id": "9fDqv73Ko9Qj"
      },
      "source": [
        "# Trocando os nomes das colunas de inglês para português, exemplo: \"Title\" para \"Título\" (com acentuação). \n"
      ]
    },
    {
      "cell_type": "code",
      "execution_count": null,
      "metadata": {
        "id": "tq86QnjIoyZz"
      },
      "outputs": [],
      "source": [
        "# novos nomes\n",
        "netflix_colnames = ['Título', 'Gênero', 'Categoria de Gênero', 'Pré estreia',\n",
        "                    'Temporadas', 'Quantidade de temporadas', 'quantidade de episodios',\n",
        "                    'Duração', 'Duração mínima', 'Duração máxima', 'Status', 'Ativa',\n",
        "                    'Catálogo', 'Idioma', 'dt_inclusao', 'Data de Alteracao']"
      ]
    },
    {
      "cell_type": "code",
      "execution_count": null,
      "metadata": {
        "colab": {
          "base_uri": "https://localhost:8080/"
        },
        "id": "XCJT1FLCrs_G",
        "outputId": "d7d7d4f1-4289-4de7-eadc-73ec63496eac"
      },
      "outputs": [
        {
          "data": {
            "text/plain": [
              "['Título',\n",
              " 'Gênero',\n",
              " 'Categoria de Gênero',\n",
              " 'Pré estreia',\n",
              " 'Temporadas',\n",
              " 'Quantidade de temporadas',\n",
              " 'quantidade de episodios',\n",
              " 'Duração',\n",
              " 'Duração mínima',\n",
              " 'Duração máxima',\n",
              " 'Status',\n",
              " 'Ativa',\n",
              " 'Catálogo',\n",
              " 'Idioma',\n",
              " 'dt_inclusao',\n",
              " 'Data de Alteracao']"
            ]
          },
          "execution_count": 20,
          "metadata": {},
          "output_type": "execute_result"
        }
      ],
      "source": [
        "# alterando nomes\n",
        "netflix_parquet_clean = netflix_parquet_clean.toDF(*netflix_colnames)\n",
        "\n",
        "netflix_parquet_clean.columns"
      ]
    },
    {
      "cell_type": "markdown",
      "metadata": {
        "id": "tkVZQ1Uztwb4"
      },
      "source": [
        "# Testando e verificando se existe algum erro de processamento do spark e identificando onde pode ter ocorrido o erro.\n",
        "\n"
      ]
    },
    {
      "cell_type": "markdown",
      "source": [
        "No caso iremos criar uma URL publico no [ngrok](https://ngrok.com/), pois no amibente do colab não é possível acessar a Spark UI."
      ],
      "metadata": {
        "id": "ryQTGaENBdKR"
      }
    },
    {
      "cell_type": "code",
      "execution_count": null,
      "metadata": {
        "colab": {
          "base_uri": "https://localhost:8080/"
        },
        "id": "HyAxW0kvuiMO",
        "outputId": "50caf4ae-0b9a-4781-d879-2767ed35df5f"
      },
      "outputs": [
        {
          "name": "stdout",
          "output_type": "stream",
          "text": [
            "Archive:  ngrok-stable-linux-amd64.zip\n",
            "  inflating: ngrok                   \n"
          ]
        }
      ],
      "source": [
        "# dependências necessarias\n",
        "!wget -q https://bin.equinox.io/c/4VmDzA7iaHb/ngrok-stable-linux-amd64.zip\n",
        "!unzip ngrok-stable-linux-amd64.zip"
      ]
    },
    {
      "cell_type": "code",
      "execution_count": null,
      "metadata": {
        "id": "0DxUwsGhuuvK"
      },
      "outputs": [],
      "source": [
        "# configurações necessárias\n",
        "get_ipython().system_raw('./ngrok authtoken 2OsKJRDOoowEb0vBvOnPShc9vhL_e7j6a74UYY9PKcnfSvvA')\n",
        "get_ipython().system_raw('./ngrok http 4050 &')"
      ]
    },
    {
      "cell_type": "code",
      "execution_count": null,
      "metadata": {
        "colab": {
          "base_uri": "https://localhost:8080/"
        },
        "id": "X2GfxwQ1uxTJ",
        "outputId": "77e0d152-5990-4cfe-ccfa-e30630dd9662"
      },
      "outputs": [
        {
          "name": "stdout",
          "output_type": "stream",
          "text": [
            "{\"tunnels\":[{\"name\":\"command_line\",\"uri\":\"/api/tunnels/command_line\",\"public_url\":\"https://9cba-35-243-238-87.ngrok-free.app\",\"proto\":\"https\",\"config\":{\"addr\":\"http://localhost:4050\",\"inspect\":true},\"metrics\":{\"conns\":{\"count\":0,\"gauge\":0,\"rate1\":0,\"rate5\":0,\"rate15\":0,\"p50\":0,\"p90\":0,\"p95\":0,\"p99\":0},\"http\":{\"count\":0,\"rate1\":0,\"rate5\":0,\"rate15\":0,\"p50\":0,\"p90\":0,\"p95\":0,\"p99\":0}}},{\"name\":\"command_line (http)\",\"uri\":\"/api/tunnels/command_line%20%28http%29\",\"public_url\":\"http://9cba-35-243-238-87.ngrok-free.app\",\"proto\":\"http\",\"config\":{\"addr\":\"http://localhost:4050\",\"inspect\":true},\"metrics\":{\"conns\":{\"count\":0,\"gauge\":0,\"rate1\":0,\"rate5\":0,\"rate15\":0,\"p50\":0,\"p90\":0,\"p95\":0,\"p99\":0},\"http\":{\"count\":0,\"rate1\":0,\"rate5\":0,\"rate15\":0,\"p50\":0,\"p90\":0,\"p95\":0,\"p99\":0}}}],\"uri\":\"/api/tunnels\"}\n"
          ]
        }
      ],
      "source": [
        "# criando url publica\n",
        "!curl -s http://localhost:4040/api/tunnels"
      ]
    },
    {
      "cell_type": "markdown",
      "metadata": {
        "id": "520m6ijEwPmE"
      },
      "source": [
        "Acessando Spark UI para analisar se há algum erro pela link gerado no campo \"public_url\", **contudo foi observado que não houve nenhum job com erro.** "
      ]
    },
    {
      "cell_type": "markdown",
      "metadata": {
        "id": "8fMpyegvwy2P"
      },
      "source": [
        "# Criar apenas 1 .csv com as seguintes colunas que foram nomeadas anteriormente:\n",
        " \n",
        "\n",
        "1. Title\n",
        "2. Genre\n",
        "3. Seasons\n",
        "4. Premiere\n",
        "5. Language\n",
        "6. Active\n",
        "7. Status\n",
        "8. dt_inclusao\n",
        "9. Data de Alteração\n",
        "\n",
        "as colunas devem estar em português com header e separadas por \";\". \n"
      ]
    },
    {
      "cell_type": "code",
      "execution_count": null,
      "metadata": {
        "id": "f9QRA1yIw3Ec"
      },
      "outputs": [],
      "source": [
        "# criando csv único\n",
        "netflix_parquet_clean.coalesce(1).write.csv(\n",
        "    path='/content/drive/MyDrive/case confitech/csv-unico',\n",
        "    mode='overwrite',\n",
        "    sep=';',\n",
        "    header=True\n",
        ")"
      ]
    },
    {
      "cell_type": "markdown",
      "metadata": {
        "id": "K--FWgL8xywF"
      },
      "source": [
        "# Inserir esse .csv dentro de um bucket do AWS s3\n",
        "\n",
        "o upload foi feito por um arquivo 'upload_csv.py' que se encontra nesse repositório, para realizar o upload é necessário algumas configurações para tal leia o README."
      ]
    },
    {
      "cell_type": "code",
      "execution_count": null,
      "metadata": {
        "id": "GEYjAnQHELhD"
      },
      "outputs": [],
      "source": [
        "# exemplo de upload\n",
        "\n",
        "# instanciando o client\n",
        "s3 = boto3.client('s3')\n",
        "\n",
        "# passando o nome do bucket\n",
        "S3_BUCKET_NAME = 'caseconfitech'\n",
        "\n",
        "#\n",
        "with open('upload_csv\\output.csv', 'rb', ) as f:\n",
        "    s3.upload_fileobj(f, S3_BUCKET_NAME, S3_BUCKET_NAME)"
      ]
    }
  ],
  "metadata": {
    "colab": {
      "provenance": []
    },
    "kernelspec": {
      "display_name": "Python 3 (ipykernel)",
      "language": "python",
      "name": "python3"
    },
    "language_info": {
      "codemirror_mode": {
        "name": "ipython",
        "version": 3
      },
      "file_extension": ".py",
      "mimetype": "text/x-python",
      "name": "python",
      "nbconvert_exporter": "python",
      "pygments_lexer": "ipython3",
      "version": "3.9.12"
    }
  },
  "nbformat": 4,
  "nbformat_minor": 0
}